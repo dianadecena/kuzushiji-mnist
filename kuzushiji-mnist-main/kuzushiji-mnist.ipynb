{
 "cells": [
  {
   "cell_type": "code",
   "execution_count": 3,
   "metadata": {},
   "outputs": [],
   "source": [
    "import cnn\n",
    "import numpy as np\n",
    "import os\n",
    "import pandas as pd\n",
    "import matplotlib.pyplot as plt\n",
    "from pathlib import Path\n",
    "from PIL import Image\n",
    "from sklearn.model_selection import train_test_split\n",
    "import torch\n",
    "import torch.nn as nn\n",
    "import torchvision\n",
    "from torch import optim\n",
    "import torch.nn.functional as F"
   ]
  },
  {
   "cell_type": "markdown",
   "metadata": {},
   "source": [
    "## Cargar el dataset"
   ]
  },
  {
   "cell_type": "code",
   "execution_count": 4,
   "metadata": {},
   "outputs": [
    {
     "name": "stdout",
     "output_type": "stream",
     "text": [
      "train images shape: (60000, 28, 28)\n",
      "test images shape: (10000, 28, 28)\n",
      "train labels shape: (60000,)\n",
      "test labels shape: (10000,)\n"
     ]
    }
   ],
   "source": [
    "filepath = Path(\"../kuzushiji-mnist-main/data\") \n",
    "\n",
    "train_dev_images = np.load(os.path.join(filepath, 'kmnist-train-imgs.npz'))['arr_0']\n",
    "train_dev_labels = np.load(os.path.join(filepath, 'kmnist-train-labels.npz'))['arr_0']\n",
    "test_images = np.load(os.path.join(filepath, 'kmnist-test-imgs.npz'))['arr_0']\n",
    "test_labels = np.load(os.path.join(filepath, 'kmnist-test-labels.npz'))['arr_0']\n",
    "\n",
    "print('train images shape: {}'.format(train_dev_images.shape))\n",
    "print('test images shape: {}'.format(test_images.shape))\n",
    "print('train labels shape: {}'.format(train_dev_labels.shape))\n",
    "print('test labels shape: {}'.format(test_labels.shape))"
   ]
  },
  {
   "cell_type": "code",
   "execution_count": 5,
   "metadata": {},
   "outputs": [
    {
     "data": {
      "image/png": "[encoded data removed]",
      "text/plain": [
       "<Figure size 432x288 with 1 Axes>"
      ]
     },
     "metadata": {},
     "output_type": "display_data"
    }
   ],
   "source": [
    "# Visualization of dataset\n",
    "labels, counts = np.unique(train_dev_labels, return_counts=True)\n",
    "plt.bar(labels, counts, 2/3, color=\"grey\");\n",
    "plt.xticks(labels);\n",
    "plt.xlabel('Index (Characters)');\n",
    "plt.ylabel('Number of characters');\n",
    "plt.title('Distribution of dataset');"
   ]
  },
  {
   "cell_type": "code",
   "execution_count": 6,
   "metadata": {},
   "outputs": [],
   "source": [
    "characters = pd.read_csv('./kmnist_classmap.csv', encoding = 'utf-8')"
   ]
  },
  {
   "cell_type": "code",
   "execution_count": 7,
   "metadata": {},
   "outputs": [
    {
     "data": {
      "text/html": [
       "<div>\n",
       "<style scoped>\n",
       "    .dataframe tbody tr th:only-of-type {\n",
       "        vertical-align: middle;\n",
       "    }\n",
       "\n",
       "    .dataframe tbody tr th {\n",
       "        vertical-align: top;\n",
       "    }\n",
       "\n",
       "    .dataframe thead th {\n",
       "        text-align: right;\n",
       "    }\n",
       "</style>\n",
       "<table border=\"1\" class=\"dataframe\">\n",
       "  <thead>\n",
       "    <tr style=\"text-align: right;\">\n",
       "      <th></th>\n",
       "      <th>index</th>\n",
       "      <th>codepoint</th>\n",
       "      <th>char</th>\n",
       "    </tr>\n",
       "  </thead>\n",
       "  <tbody>\n",
       "    <tr>\n",
       "      <th>0</th>\n",
       "      <td>0</td>\n",
       "      <td>U+304A</td>\n",
       "      <td>お</td>\n",
       "    </tr>\n",
       "    <tr>\n",
       "      <th>1</th>\n",
       "      <td>1</td>\n",
       "      <td>U+304D</td>\n",
       "      <td>き</td>\n",
       "    </tr>\n",
       "    <tr>\n",
       "      <th>2</th>\n",
       "      <td>2</td>\n",
       "      <td>U+3059</td>\n",
       "      <td>す</td>\n",
       "    </tr>\n",
       "    <tr>\n",
       "      <th>3</th>\n",
       "      <td>3</td>\n",
       "      <td>U+3064</td>\n",
       "      <td>つ</td>\n",
       "    </tr>\n",
       "    <tr>\n",
       "      <th>4</th>\n",
       "      <td>4</td>\n",
       "      <td>U+306A</td>\n",
       "      <td>な</td>\n",
       "    </tr>\n",
       "    <tr>\n",
       "      <th>5</th>\n",
       "      <td>5</td>\n",
       "      <td>U+306F</td>\n",
       "      <td>は</td>\n",
       "    </tr>\n",
       "    <tr>\n",
       "      <th>6</th>\n",
       "      <td>6</td>\n",
       "      <td>U+307E</td>\n",
       "      <td>ま</td>\n",
       "    </tr>\n",
       "    <tr>\n",
       "      <th>7</th>\n",
       "      <td>7</td>\n",
       "      <td>U+3084</td>\n",
       "      <td>や</td>\n",
       "    </tr>\n",
       "    <tr>\n",
       "      <th>8</th>\n",
       "      <td>8</td>\n",
       "      <td>U+308C</td>\n",
       "      <td>れ</td>\n",
       "    </tr>\n",
       "    <tr>\n",
       "      <th>9</th>\n",
       "      <td>9</td>\n",
       "      <td>U+3092</td>\n",
       "      <td>を</td>\n",
       "    </tr>\n",
       "  </tbody>\n",
       "</table>\n",
       "</div>"
      ],
      "text/plain": [
       "   index codepoint char\n",
       "0      0    U+304A    お\n",
       "1      1    U+304D    き\n",
       "2      2    U+3059    す\n",
       "3      3    U+3064    つ\n",
       "4      4    U+306A    な\n",
       "5      5    U+306F    は\n",
       "6      6    U+307E    ま\n",
       "7      7    U+3084    や\n",
       "8      8    U+308C    れ\n",
       "9      9    U+3092    を"
      ]
     },
     "execution_count": 7,
     "metadata": {},
     "output_type": "execute_result"
    }
   ],
   "source": [
    "characters"
   ]
  },
  {
   "cell_type": "markdown",
   "metadata": {},
   "source": [
    "## Visualizar algunas imágenes"
   ]
  },
  {
   "cell_type": "code",
   "execution_count": 8,
   "metadata": {},
   "outputs": [
    {
     "name": "stdout",
     "output_type": "stream",
     "text": [
      "random sample shape: (10, 28, 28)\n"
     ]
    }
   ],
   "source": [
    "random_sample = np.empty([1, 28, 28])\n",
    "\n",
    "for i in range(len(labels)):\n",
    "    sample = train_dev_images[np.where(train_dev_labels == i)][:1]\n",
    "    sample = np.asarray(sample)\n",
    "    random_sample = np.concatenate([random_sample, sample], axis=0)\n",
    "    \n",
    "random_sample = np.delete(random_sample, (0), axis=0)\n",
    "print('random sample shape: {}'.format(random_sample.shape))"
   ]
  },
  {
   "cell_type": "code",
   "execution_count": 9,
   "metadata": {},
   "outputs": [
    {
     "data": {
      "image/png": "[encoded data removed]",
      "text/plain": [
       "<Figure size 2880x2880 with 10 Axes>"
      ]
     },
     "metadata": {},
     "output_type": "display_data"
    }
   ],
   "source": [
    "figure = plt.figure(figsize=(40, 40))\n",
    "\n",
    "for i in range(len(random_sample)):\n",
    "    sub = figure.add_subplot(10, 1, i+1)\n",
    "    sub.imshow(random_sample[i, :, :], interpolation='nearest')\n",
    "    sub.set_title('index = ' + str(i))"
   ]
  },
  {
   "cell_type": "markdown",
   "metadata": {},
   "source": [
    "# Preprocesamiento de la data (train and dev set)"
   ]
  },
  {
   "cell_type": "code",
   "execution_count": 10,
   "metadata": {},
   "outputs": [],
   "source": [
    "def process_images(dataset, labels):\n",
    "    new_dataset = dataset.astype('float32')\n",
    "    new_dataset /= 255\n",
    "    new_dataset = np.reshape(new_dataset, (len(new_dataset), 1, 28, 28))\n",
    "    new_labels = labels.astype('int64')\n",
    "    return new_dataset, new_labels"
   ]
  },
  {
   "cell_type": "code",
   "execution_count": 11,
   "metadata": {},
   "outputs": [
    {
     "name": "stdout",
     "output_type": "stream",
     "text": [
      "training dataset shape: torch.Size([54000, 1, 28, 28])\n",
      "training labels shape: torch.Size([54000])\n",
      "validation dataset shape: torch.Size([6000, 1, 28, 28])\n",
      "validation labels shape: torch.Size([6000])\n"
     ]
    }
   ],
   "source": [
    "new_train_images, new_train_labels = process_images(train_dev_images, train_dev_labels)\n",
    "\n",
    "# Separacion del train data set en train y dev\n",
    "X_train, X_dev, y_train, y_dev = train_test_split(new_train_images, new_train_labels, train_size=.9, test_size=.1)\n",
    "\n",
    "# Transforming dataset into tensors\n",
    "X_train = torch.Tensor(X_train)\n",
    "y_train = torch.Tensor(y_train).type(torch.LongTensor)\n",
    "X_dev = torch.Tensor(X_dev)\n",
    "y_dev = torch.Tensor(y_dev).type(torch.LongTensor)\n",
    "\n",
    "print('training dataset shape: {}'.format(X_train.shape))\n",
    "print('training labels shape: {}'.format(y_train.shape))\n",
    "print('validation dataset shape: {}'.format(X_dev.shape))\n",
    "print('validation labels shape: {}'.format(y_dev.shape))\n",
    "\n",
    "train_dataset = torch.utils.data.TensorDataset(X_train, y_train)\n",
    "trainloader = torch.utils.data.DataLoader(train_dataset, batch_size = 400, shuffle = False)\n",
    "\n",
    "dev_dataset = torch.utils.data.TensorDataset(X_dev, y_dev)\n",
    "devloader = torch.utils.data.DataLoader(dev_dataset, batch_size = 400, shuffle = False)"
   ]
  },
  {
   "cell_type": "markdown",
   "metadata": {},
   "source": [
    "# Creación del modelo 1"
   ]
  },
  {
   "cell_type": "code",
   "execution_count": 25,
   "metadata": {},
   "outputs": [],
   "source": [
    "num_epochs = 10\n",
    "learning_rate = 0.001 \n",
    "model = cnn.ConvNet(1)\n",
    "criterion = nn.CrossEntropyLoss()\n",
    "optimizer = torch.optim.Adam(model.parameters(), lr=learning_rate)"
   ]
  },
  {
   "cell_type": "markdown",
   "metadata": {},
   "source": [
    "# Entrenamiento del modelo (train set)"
   ]
  },
  {
   "cell_type": "code",
   "execution_count": 52,
   "metadata": {},
   "outputs": [
    {
     "name": "stdout",
     "output_type": "stream",
     "text": [
      "epoch 1 / 10, loss = 1.5896, accuracy = 87.29%\n",
      "epoch 2 / 10, loss = 1.5891, accuracy = 87.33%\n",
      "epoch 3 / 10, loss = 1.5885, accuracy = 87.42%\n",
      "epoch 4 / 10, loss = 1.5883, accuracy = 87.46%\n",
      "epoch 5 / 10, loss = 1.5876, accuracy = 87.52%\n",
      "epoch 6 / 10, loss = 1.5872, accuracy = 87.59%\n",
      "epoch 7 / 10, loss = 1.5868, accuracy = 87.61%\n",
      "epoch 8 / 10, loss = 1.5867, accuracy = 87.58%\n",
      "epoch 9 / 10, loss = 1.5859, accuracy = 87.64%\n",
      "epoch 10 / 10, loss = 1.5849, accuracy = 87.78%\n",
      "Finished Training\n"
     ]
    }
   ],
   "source": [
    "for epoch in range(num_epochs):\n",
    "    model.train()\n",
    "    running_loss = 0\n",
    "    accuracy = 0\n",
    "    steps = 0\n",
    "    for i, (images, labels) in enumerate(trainloader):\n",
    "        #forward\n",
    "        output = model(images)\n",
    "        loss = criterion(output, labels)\n",
    "\n",
    "        #backwards\n",
    "        optimizer.zero_grad()\n",
    "        loss.backward()\n",
    "        optimizer.step()\n",
    "        \n",
    "        running_loss += loss.item()\n",
    "        _, predicted = torch.max(output, 1)\n",
    "        accuracy += (predicted == labels).sum()\n",
    "        steps += 1\n",
    "        \n",
    "    print(f'epoch {epoch+1} / {num_epochs}, loss = {running_loss/steps:.4f}, accuracy = {100 * accuracy / len(train_dataset):.2f}%')\n",
    "print('Finished Training')"
   ]
  },
  {
   "cell_type": "markdown",
   "metadata": {},
   "source": [
    "# Accuracy del modelo (dev set)"
   ]
  },
  {
   "cell_type": "code",
   "execution_count": 43,
   "metadata": {},
   "outputs": [
    {
     "name": "stdout",
     "output_type": "stream",
     "text": [
      "epoch 1 / 10, loss = 1.5867, accuracy = 86.15%\n",
      "epoch 2 / 10, loss = 1.5867, accuracy = 86.15%\n",
      "epoch 3 / 10, loss = 1.5867, accuracy = 86.15%\n",
      "epoch 4 / 10, loss = 1.5867, accuracy = 86.15%\n",
      "epoch 5 / 10, loss = 1.5867, accuracy = 86.15%\n",
      "epoch 6 / 10, loss = 1.5867, accuracy = 86.15%\n",
      "epoch 7 / 10, loss = 1.5867, accuracy = 86.15%\n",
      "epoch 8 / 10, loss = 1.5867, accuracy = 86.15%\n",
      "epoch 9 / 10, loss = 1.5867, accuracy = 86.15%\n",
      "epoch 10 / 10, loss = 1.5867, accuracy = 86.15%\n"
     ]
    }
   ],
   "source": [
    "for epoch in range(num_epochs):\n",
    "    loss = 0\n",
    "    accuracy = 0\n",
    "    running_loss = 0\n",
    "    steps = 0\n",
    "    model.eval()\n",
    "    for i, (images, labels) in enumerate(devloader):\n",
    "        output = model(images)\n",
    "        loss = criterion(output, labels)\n",
    "        optimizer.zero_grad()\n",
    "        running_loss += loss.item()\n",
    "        _, predicted = torch.max(output, 1)\n",
    "        accuracy += (predicted == labels).sum()\n",
    "        steps += 1\n",
    "    print(f'epoch {epoch+1} / {num_epochs}, loss = {running_loss/steps:.4f}, accuracy = {100 * accuracy / len(dev_dataset):.2f}%')"
   ]
  },
  {
   "cell_type": "markdown",
   "metadata": {},
   "source": [
    "# Preprocesamiento de la data (test set)"
   ]
  },
  {
   "cell_type": "code",
   "execution_count": 47,
   "metadata": {},
   "outputs": [
    {
     "name": "stdout",
     "output_type": "stream",
     "text": [
      "test dataset shape: torch.Size([10000, 1, 28, 28])\n",
      "test labels shape: torch.Size([10000])\n"
     ]
    }
   ],
   "source": [
    "new_test_images, new_test_labels = process_images(test_images, test_labels)\n",
    "\n",
    "# Transforming dataset into tensors\n",
    "X_test = torch.Tensor(new_test_images)\n",
    "y_test = torch.Tensor(new_test_labels).type(torch.LongTensor)\n",
    "\n",
    "print('test dataset shape: {}'.format(X_test.shape))\n",
    "print('test labels shape: {}'.format(y_test.shape))\n",
    "\n",
    "test_dataset = torch.utils.data.TensorDataset(X_test, y_test)\n",
    "testloader = torch.utils.data.DataLoader(test_dataset, batch_size = 400, shuffle = False)"
   ]
  },
  {
   "cell_type": "markdown",
   "metadata": {},
   "source": [
    "# Accuracy del test set"
   ]
  },
  {
   "cell_type": "code",
   "execution_count": 51,
   "metadata": {},
   "outputs": [
    {
     "name": "stdout",
     "output_type": "stream",
     "text": [
      "test loss: 0.074, test accuracy: 72.36%\n"
     ]
    }
   ],
   "source": [
    "model.eval()\n",
    "with torch.no_grad():\n",
    "    accuracy = 0\n",
    "    total = 0\n",
    "    test_loss = 0\n",
    "    for images, labels in testloader:\n",
    "        output = model(images)\n",
    "        loss = criterion(output, labels)\n",
    "        test_loss += loss.item()\n",
    "        test_loss = test_loss/len(testloader)\n",
    "        _, predicted = torch.max(output.data, 1)\n",
    "        total += labels.size(0)\n",
    "        accuracy += (predicted == labels).sum().item()\n",
    "        test_accuracy = (100*accuracy)/total\n",
    "    print(f'test loss: {test_loss:.3f}, test accuracy: {(100*accuracy)/total:.2f}%')"
   ]
  }
 ],
 "metadata": {
  "kernelspec": {
   "display_name": "Python 3",
   "language": "python",
   "name": "python3"
  },
  "language_info": {
   "codemirror_mode": {
    "name": "ipython",
    "version": 3
   },
   "file_extension": ".py",
   "mimetype": "text/x-python",
   "name": "python",
   "nbconvert_exporter": "python",
   "pygments_lexer": "ipython3",
   "version": "3.6.5"
  }
 },
 "nbformat": 4,
 "nbformat_minor": 2
}
